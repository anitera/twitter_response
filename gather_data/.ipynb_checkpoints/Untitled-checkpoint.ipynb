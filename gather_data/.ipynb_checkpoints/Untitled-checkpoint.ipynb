{
 "cells": [
  {
   "cell_type": "code",
   "execution_count": 7,
   "metadata": {
    "collapsed": true
   },
   "outputs": [],
   "source": [
    "#Accessing the data\n",
    "import tweepy\n",
    "from tweepy import OAuthHandler\n",
    "from tweepy import Stream\n",
    "from tweepy.streaming import StreamListener\n",
    "import json\n",
    "import datetime as dt\n",
    "from datetime import datetime, timedelta\n",
    "import time\n",
    "import os\n",
    "import sys\n",
    "import codecs\n",
    "import io"
   ]
  },
  {
   "cell_type": "code",
   "execution_count": 2,
   "metadata": {
    "collapsed": true
   },
   "outputs": [],
   "source": [
    "#loading the twitter API\n",
    "def load_api():\n",
    "    consumer_key = '9Pls4VOFjj8fPRNc5XLWXQbPF'\n",
    "    consumer_secret = '8z4wjK5aJ9j1KQl5qxiskG5pL5hyutcbc45psahzEpuIrDFKVx'\n",
    "    access_token = '854038913727516672-9Dt0RaINnUz0lLju6bV9pE7PVhxcAxB'\n",
    "    access_secret = 'LlnU8ri5SWakSDpWmntWBoxCCJwhmsGvpi911FLy3Jg8H'\n",
    "    auth = OAuthHandler(consumer_key, consumer_secret)\n",
    "    auth.set_access_token(access_token, access_secret)\n",
    "    return auth"
   ]
  },
  {
   "cell_type": "code",
   "execution_count": 23,
   "metadata": {
    "collapsed": true
   },
   "outputs": [],
   "source": [
    "class MyStreamListener(tweepy.StreamListener):\n",
    "    def __init__(self, time_limit=60):\n",
    "        self.start_time = time.time()\n",
    "        self.limit = time_limit\n",
    "        self.saveFile = open('data.json', 'w')\n",
    "        super(MyStreamListener, self).__init__()\n",
    "\n",
    "    def on_data(self, data):\n",
    "        if (time.time() - self.start_time) < self.limit:\n",
    "            self.saveFile.write(data)\n",
    "            #self.saveFile.write('\\n')\n",
    "            return True\n",
    "        else:\n",
    "            self.saveFile.close()\n",
    "            return False"
   ]
  },
  {
   "cell_type": "code",
   "execution_count": 24,
   "metadata": {},
   "outputs": [],
   "source": [
    "auth = load_api()\n",
    "myStream = tweepy.Stream(auth, listener=MyStreamListener(time_limit=200))\n",
    "myStream.filter(track=['#iPhoneX'])"
   ]
  },
  {
   "cell_type": "code",
   "execution_count": 5,
   "metadata": {
    "collapsed": true
   },
   "outputs": [
    {
     "name": "stdout",
     "output_type": "stream",
     "text": [
      "{\"created_at\":\"Sat Sep 30 09:47:56 +0000 2017\",\"id\":914064257049821184,\"id_str\":\"914064257049821184\",\"text\":\"RT @kalluxrz: My first iPhone8 Giveaway Win the brand new To win just retweet this post &amp; follow us. Winners will get PM\\u2026 \",\"source\":\"\\u003ca href=\\\"http:\\/\\/semanticearth.com\\/\\\" rel=\\\"nofollow\\\"\\u003eInfomation Service Provider41\\u003c\\/a\\u003e\",\"truncated\":false,\"in_reply_to_status_id\":null,\"in_reply_to_status_id_str\":null,\"in_reply_to_user_id\":null,\"in_reply_to_user_id_str\":null,\"in_reply_to_screen_name\":null,\"user\":{\"id\":905998695220428800,\"id_str\":\"905998695220428800\",\"name\":\"Apple World\",\"screen_name\":\"apple_industry\",\"location\":\"Global\",\"url\":null,\"description\":\"Welcome to Apple World, here you'll find information related to products and services provided by Apple Corporation. Tweets are sponsored via @shorte_st\",\"translator_type\":\"none\",\"protected\":false,\"verified\":false,\"followers_count\":88,\"friends_count\":43,\"listed_count\":2,\"favourites_count\":1,\"statuses_count\":2362,\"created_at\":\"Fri Sep 08 03:38:16 +0000 2017\",\"utc_offset\":-14400,\"time_zone\":\"Caracas\",\"geo_enabled\":false,\"lang\":\"en\",\"contributors_enabled\":false,\"is_translator\":false,\"profile_background_color\":\"F5F8FA\",\"profile_background_image_url\":\"\",\"profile_background_image_url_https\":\"\",\"profile_background_tile\":false,\"profile_link_color\":\"1DA1F2\",\"profile_sidebar_border_color\":\"C0DEED\",\"profile_sidebar_fill_color\":\"DDEEF6\",\"profile_text_color\":\"333333\",\"profile_use_background_image\":true,\"profile_image_url\":\"http:\\/\\/pbs.twimg.com\\/profile_images\\/906202212367564800\\/1D_pkYOy_normal.jpg\",\"profile_image_url_https\":\"https:\\/\\/pbs.twimg.com\\/profile_images\\/906202212367564800\\/1D_pkYOy_normal.jpg\",\"profile_banner_url\":\"https:\\/\\/pbs.twimg.com\\/profile_banners\\/905998695220428800\\/1504890462\",\"default_profile\":true,\"default_profile_image\":false,\"following\":null,\"follow_request_sent\":null,\"notifications\":null},\"geo\":null,\"coordinates\":null,\"place\":null,\"contributors\":null,\"retweeted_status\":{\"created_at\":\"Fri Sep 29 19:40:16 +0000 2017\",\"id\":913850935356657665,\"id_str\":\"913850935356657665\",\"text\":\"My first iPhone8 Giveaway Win the brand new To win just retweet this post &amp; follow us. Winners will get PM\\u2026 https:\\/\\/t.co\\/4TdxPfTDEB\",\"display_text_range\":[0,140],\"source\":\"\\u003ca href=\\\"http:\\/\\/www.hootsuite.com\\\" rel=\\\"nofollow\\\"\\u003eHootsuite\\u003c\\/a\\u003e\",\"truncated\":true,\"in_reply_to_status_id\":null,\"in_reply_to_status_id_str\":null,\"in_reply_to_user_id\":null,\"in_reply_to_user_id_str\":null,\"in_reply_to_screen_name\":null,\"user\":{\"id\":798215657007497216,\"id_str\":\"798215657007497216\",\"name\":\"iPhone8 & iPhoneX\",\"screen_name\":\"kalluxrz\",\"location\":null,\"url\":\"http:\\/\\/apple.com\",\"description\":\"IPhone8 and iPhoneX Giveaways #iphone8 #iphoneX #AppleEvent\",\"translator_type\":\"none\",\"protected\":false,\"verified\":false,\"followers_count\":811,\"friends_count\":6,\"listed_count\":0,\"favourites_count\":45,\"statuses_count\":300,\"created_at\":\"Mon Nov 14 17:26:57 +0000 2016\",\"utc_offset\":null,\"time_zone\":null,\"geo_enabled\":false,\"lang\":\"en\",\"contributors_enabled\":false,\"is_translator\":false,\"profile_background_color\":\"F5F8FA\",\"profile_background_image_url\":\"\",\"profile_background_image_url_https\":\"\",\"profile_background_tile\":false,\"profile_link_color\":\"1DA1F2\",\"profile_sidebar_border_color\":\"C0DEED\",\"profile_sidebar_fill_color\":\"DDEEF6\",\"profile_text_color\":\"333333\",\"profile_use_background_image\":true,\"profile_image_url\":\"http:\\/\\/pbs.twimg.com\\/profile_images\\/908013650924974081\\/icMt9xFl_normal.jpg\",\"profile_image_url_https\":\"https:\\/\\/pbs.twimg.com\\/profile_images\\/908013650924974081\\/icMt9xFl_normal.jpg\",\"profile_banner_url\":\"https:\\/\\/pbs.twimg.com\\/profile_banners\\/798215657007497216\\/1505322303\",\"default_profile\":true,\"default_profile_image\":false,\"following\":null,\"follow_request_sent\":null,\"notifications\":null},\"geo\":null,\"coordinates\":null,\"place\":null,\"contributors\":null,\"is_quote_status\":false,\"extended_tweet\":{\"full_text\":\"My first iPhone8 Giveaway Win the brand new To win just retweet this post &amp; follow us. Winners will get PM #AppleEvent\\u00a0\\u00a0 #iPhone8 #iphoneX https:\\/\\/t.co\\/RgjTjtRGVh\",\"display_text_range\":[0,142],\"entities\":{\"hashtags\":[{\"text\":\"AppleEvent\",\"indices\":[111,122]},{\"text\":\"iPhone8\",\"indices\":[125,133]},{\"text\":\"iphoneX\",\"indices\":[134,142]}],\"urls\":[],\"user_mentions\":[],\"symbols\":[],\"media\":[{\"id\":913850930629632003,\"id_str\":\"913850930629632003\",\"indices\":[143,166],\"media_url\":\"http:\\/\\/pbs.twimg.com\\/media\\/DK6mlGHW4AM-sOt.jpg\",\"media_url_https\":\"https:\\/\\/pbs.twimg.com\\/media\\/DK6mlGHW4AM-sOt.jpg\",\"url\":\"https:\\/\\/t.co\\/RgjTjtRGVh\",\"display_url\":\"pic.twitter.com\\/RgjTjtRGVh\",\"expanded_url\":\"https:\\/\\/twitter.com\\/kalluxrz\\/status\\/913850935356657665\\/photo\\/1\",\"type\":\"photo\",\"sizes\":{\"large\":{\"w\":960,\"h\":540,\"resize\":\"fit\"},\"small\":{\"w\":680,\"h\":383,\"resize\":\"fit\"},\"thumb\":{\"w\":150,\"h\":150,\"resize\":\"crop\"},\"medium\":{\"w\":960,\"h\":540,\"resize\":\"fit\"}}}]},\"extended_entities\":{\"media\":[{\"id\":913850930629632003,\"id_str\":\"913850930629632003\",\"indices\":[143,166],\"media_url\":\"http:\\/\\/pbs.twimg.com\\/media\\/DK6mlGHW4AM-sOt.jpg\",\"media_url_https\":\"https:\\/\\/pbs.twimg.com\\/media\\/DK6mlGHW4AM-sOt.jpg\",\"url\":\"https:\\/\\/t.co\\/RgjTjtRGVh\",\"display_url\":\"pic.twitter.com\\/RgjTjtRGVh\",\"expanded_url\":\"https:\\/\\/twitter.com\\/kalluxrz\\/status\\/913850935356657665\\/photo\\/1\",\"type\":\"photo\",\"sizes\":{\"large\":{\"w\":960,\"h\":540,\"resize\":\"fit\"},\"small\":{\"w\":680,\"h\":383,\"resize\":\"fit\"},\"thumb\":{\"w\":150,\"h\":150,\"resize\":\"crop\"},\"medium\":{\"w\":960,\"h\":540,\"resize\":\"fit\"}}}]}},\"quote_count\":0,\"reply_count\":0,\"retweet_count\":5,\"favorite_count\":1,\"entities\":{\"hashtags\":[],\"urls\":[{\"url\":\"https:\\/\\/t.co\\/4TdxPfTDEB\",\"expanded_url\":\"https:\\/\\/twitter.com\\/i\\/web\\/status\\/913850935356657665\",\"display_url\":\"twitter.com\\/i\\/web\\/status\\/9\\u2026\",\"indices\":[112,135]}],\"user_mentions\":[],\"symbols\":[]},\"favorited\":false,\"retweeted\":false,\"possibly_sensitive\":false,\"filter_level\":\"low\",\"lang\":\"en\"},\"is_quote_status\":false,\"quote_count\":0,\"reply_count\":0,\"retweet_count\":0,\"favorite_count\":0,\"entities\":{\"hashtags\":[],\"urls\":[],\"user_mentions\":[{\"screen_name\":\"kalluxrz\",\"name\":\"iPhone8 & iPhoneX\",\"id\":798215657007497216,\"id_str\":\"798215657007497216\",\"indices\":[3,12]}],\"symbols\":[]},\"favorited\":false,\"retweeted\":false,\"filter_level\":\"low\",\"lang\":\"en\",\"timestamp_ms\":\"1506764876030\"}\r\n",
      "\n",
      "\n"
     ]
    }
   ],
   "source": [
    "with open('data.json') as json_data:\n",
    "    dat = json_data.read()\n",
    "    print dat"
   ]
  },
  {
   "cell_type": "code",
   "execution_count": 25,
   "metadata": {},
   "outputs": [
    {
     "name": "stdout",
     "output_type": "stream",
     "text": [
      "RT @OverwatchSF: #OverwatchSF Epic #iPhoneX #Giveaway\n",
      "-Tag Your Friends\n",
      "-RT, Like &amp; Follow @OverwatchSF\n",
      "Click Here:… \n",
      "RT @gankstars: 🎉 #iPhoneX #Giveaway 🎉\n",
      "-Tag Your Friends\n",
      "-Turn Notifications On\n",
      "-RT, Like &amp; Follow @Gankstars\n",
      "Click Here:… \n",
      "RT @LiveLife101Twit: #Win #iPhoneX #Giveaway \n",
      "- Tag Your Friends\n",
      "- RT, Like and Follow @LiveLife101Twit \n",
      "- ENTER HERE!… \n",
      "RT @OverwatchSF: #OverwatchSF Epic #iPhoneX #Giveaway\n",
      "-Tag Your Friends\n",
      "-RT, Like &amp; Follow @OverwatchSF\n",
      "Click Here:… \n",
      "RT @OverwatchSF: #OverwatchSF Epic #iPhoneX #Giveaway\n",
      "-Tag Your Friends\n",
      "-RT, Like &amp; Follow @OverwatchSF\n",
      "Click Here:… \n",
      "Подробнее: https://t.co/4WLN7iw2gW\n",
      "#IOS11 #Apple #AppleTV4K #iPhoneX #iPhone8 #iPhone8Plus #AppleWatchSeries3… https://t.co/Tjp8rnAcOa\n",
      "RT @TopAchat: 🎁 #Concours 🎁\n",
      "\n",
      "2 #iPhoneX à gagner ! 😱\n",
      "\n",
      "RT + Follow @TopAchat\n",
      "Mentionne un ami en réponse (un iPhone X chacun) https://t.co/F…\n",
      "RT @OverwatchSF: #OverwatchSF Epic #iPhoneX #Giveaway\n",
      "-Tag Your Friends\n",
      "-RT, Like &amp; Follow @OverwatchSF\n",
      "Click Here:… \n",
      "RT @OverwatchSF: #OverwatchSF Epic #iPhoneX #Giveaway\n",
      "-Tag Your Friends\n",
      "-RT, Like &amp; Follow @OverwatchSF\n",
      "Click Here:… \n",
      "RT @NRGgg: #OverwatchSF Epic #iPhoneX #Giveaway\n",
      "-Tag Your Friends\n",
      "-RT, Like &amp; Follow @OverwatchSF\n",
      "Click Here:… \n",
      "Enter This #iPhoneX #Giveaway! https://t.co/hUKWRbOq9N\n",
      "RT @NRGgg: #OverwatchSF Epic #iPhoneX #Giveaway\n",
      "-Tag Your Friends\n",
      "-RT, Like &amp; Follow @OverwatchSF\n",
      "Click Here:… \n",
      "Enter This #iPhoneX, Logitech Keyboard/Mouse, and #Overwatch Loot Boxes #Giveaway! https://t.co/4tULlcBMkL\n",
      "RT @OverwatchSF: #OverwatchSF Epic #iPhoneX #Giveaway\n",
      "-Tag Your Friends\n",
      "-RT, Like &amp; Follow @OverwatchSF\n",
      "Click Here:… \n",
      "RT @NRGgg: #OverwatchSF Epic #iPhoneX #Giveaway\n",
      "-Tag Your Friends\n",
      "-RT, Like &amp; Follow @OverwatchSF\n",
      "Click Here:… \n",
      "Enter This #iPhoneX, Logitech Keyboard/Mouse, and #Overwatch Loot Boxes #Giveaway! https://t.co/JLTNLnxaIb\n",
      "Enter This #iPhoneX, Logitech Keyboard/Mouse, and #Overwatch Loot Boxes #Giveaway! https://t.co/ViJl1NaNlv\n",
      "RT @NRGgg: #OverwatchSF Epic #iPhoneX #Giveaway\n",
      "-Tag Your Friends\n",
      "-RT, Like &amp; Follow @OverwatchSF\n",
      "Click Here:… \n",
      "Screen lock of iPhone X #apple #iphone #iphonex #ios #ios11 #design #devcenter © https://t.co/v6JfLh0SsL\n",
      "RT @TecnonautaTV: El #iPhoneX se retrasa por los sensores 3D\n",
      "\n",
      "Este es el problema → https://t.co/ooaP1BhWXV https://t.co/tangnJy4Fv\n",
      "RT @KTHopkins: Hey, beautiful ladies. What do you think of #iPhoneX #FaceID? https://t.co/lPfLyg4dcR\n",
      "RT @readit_DE: Wird Apple mit dem #iPhoneX erneut eine Revolution auslösen können? #Apple https://t.co/94JLnAdSeX https://t.co/Z1G3lR7Cqs\n",
      "Enter This #iPhoneX, Logitech Keyboard/Mouse, and #Overwatch Loot Boxes #Giveaway! https://t.co/7D4teTOGVi\n",
      "Enter This #iPhoneX, Logitech Keyboard/Mouse, and #Overwatch Loot Boxes #Giveaway! https://t.co/Y0VyyTPcl4\n",
      "RT @NRGgg: #OverwatchSF Epic #iPhoneX #Giveaway\n",
      "-Tag Your Friends\n",
      "-RT, Like &amp; Follow @OverwatchSF\n",
      "Click Here:… \n",
      "Enter This #iPhoneX, Logitech Keyboard/Mouse, and #Overwatch Loot Boxes #Giveaway! https://t.co/2Nqtxl8Kmg\n",
      "RT @OverwatchSF: #OverwatchSF Epic #iPhoneX #Giveaway\n",
      "-Tag Your Friends\n",
      "-RT, Like &amp; Follow @OverwatchSF\n",
      "Click Here:… \n",
      "RT @OverwatchSF: #OverwatchSF Epic #iPhoneX #Giveaway\n",
      "-Tag Your Friends\n",
      "-RT, Like &amp; Follow @OverwatchSF\n",
      "Click Here:… \n",
      "RT @NRGgg: #OverwatchSF Epic #iPhoneX #Giveaway\n",
      "-Tag Your Friends\n",
      "-RT, Like &amp; Follow @OverwatchSF\n",
      "Click Here:… \n",
      "Enter This #iPhoneX, Logitech Keyboard/Mouse, and #Overwatch Loot Boxes #Giveaway! https://t.co/3POEsqUAQq\n",
      "#iPhoneX https://t.co/aPBaIZBIqT\n",
      "Enter This #iPhoneX, Logitech Keyboard/Mouse, and #Overwatch Loot Boxes #Giveaway! https://t.co/jCIJKqjhaW\n"
     ]
    }
   ],
   "source": [
    "ccode = \"US\"\n",
    "\n",
    "with codecs.open('data.json', 'r') as fin, open('data_filtered.txt', 'w') as fout:\n",
    "    for line in fin:\n",
    "        tweet = json.loads(line)\n",
    "        print tweet['text']\n",
    "        fout.write(tweet['text'].encode('ascii', errors='backslashreplace'))"
   ]
  },
  {
   "cell_type": "code",
   "execution_count": null,
   "metadata": {
    "collapsed": true
   },
   "outputs": [],
   "source": []
  }
 ],
 "metadata": {
  "kernelspec": {
   "display_name": "Python 2",
   "language": "python",
   "name": "python2"
  },
  "language_info": {
   "codemirror_mode": {
    "name": "ipython",
    "version": 2
   },
   "file_extension": ".py",
   "mimetype": "text/x-python",
   "name": "python",
   "nbconvert_exporter": "python",
   "pygments_lexer": "ipython2",
   "version": "2.7.13"
  }
 },
 "nbformat": 4,
 "nbformat_minor": 2
}
