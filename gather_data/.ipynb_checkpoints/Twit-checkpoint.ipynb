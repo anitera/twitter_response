{
 "cells": [
  {
   "cell_type": "code",
   "execution_count": 2,
   "metadata": {},
   "outputs": [
    {
     "ename": "SyntaxError",
     "evalue": "invalid syntax (<ipython-input-2-33f43a08d985>, line 4)",
     "output_type": "error",
     "traceback": [
      "\u001b[1;36m  File \u001b[1;32m\"<ipython-input-2-33f43a08d985>\"\u001b[1;36m, line \u001b[1;32m4\u001b[0m\n\u001b[1;33m    consumer_key = 9Pls4VOFjj8fPRNc5XLWXQbPF\u001b[0m\n\u001b[1;37m                                           ^\u001b[0m\n\u001b[1;31mSyntaxError\u001b[0m\u001b[1;31m:\u001b[0m invalid syntax\n"
     ]
    }
   ],
   "source": [
    "import tweepy\n",
    "from tweepy import OAuthHandler\n",
    " \n",
    "consumer_key = 9Pls4VOFjj8fPRNc5XLWXQbPF\n",
    "consumer_secret = 8z4wjK5aJ9j1KQl5qxiskG5pL5hyutcbc45psahzEpuIrDFKVx\n",
    "\n",
    "access_token = 854038913727516672-9Dt0RaINnUz0lLju6bV9pE7PVhxcAxB\n",
    "access_secret = LlnU8ri5SWakSDpWmntWBoxCCJwhmsGvpi911FLy3Jg8H\n",
    "\n",
    " \n",
    "auth = OAuthHandler(consumer_key, consumer_secret)\n",
    "auth.set_access_token(access_token, access_secret)\n",
    " \n",
    "api = tweepy.API(auth)"
   ]
  },
  {
   "cell_type": "code",
   "execution_count": null,
   "metadata": {
    "collapsed": true
   },
   "outputs": [],
   "source": []
  }
 ],
 "metadata": {
  "kernelspec": {
   "display_name": "Python 2",
   "language": "python",
   "name": "python2"
  },
  "language_info": {
   "codemirror_mode": {
    "name": "ipython",
    "version": 2
   },
   "file_extension": ".py",
   "mimetype": "text/x-python",
   "name": "python",
   "nbconvert_exporter": "python",
   "pygments_lexer": "ipython2",
   "version": "2.7.13"
  }
 },
 "nbformat": 4,
 "nbformat_minor": 2
}
