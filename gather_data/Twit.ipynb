{
 "cells": [
  {
   "cell_type": "code",
   "execution_count": 52,
   "metadata": {
    "collapsed": true
   },
   "outputs": [],
   "source": [
    "#Accessing the data\n",
    "import tweepy\n",
    "from tweepy import OAuthHandler\n",
    "from tweepy import Stream\n",
    "from tweepy.streaming import StreamListener\n",
    "import json\n",
    "import datetime as dt\n",
    "from datetime import datetime, timedelta\n",
    "import time\n",
    "import os\n",
    "import sys"
   ]
  },
  {
   "cell_type": "code",
   "execution_count": 53,
   "metadata": {
    "collapsed": true
   },
   "outputs": [],
   "source": [
    "#loading the twitter API\n",
    "def load_api():\n",
    "    consumer_key = '9Pls4VOFjj8fPRNc5XLWXQbPF'\n",
    "    consumer_secret = '8z4wjK5aJ9j1KQl5qxiskG5pL5hyutcbc45psahzEpuIrDFKVx'\n",
    "    access_token = '854038913727516672-9Dt0RaINnUz0lLju6bV9pE7PVhxcAxB'\n",
    "    access_secret = 'LlnU8ri5SWakSDpWmntWBoxCCJwhmsGvpi911FLy3Jg8H'\n",
    "    auth = OAuthHandler(consumer_key, consumer_secret)\n",
    "    auth.set_access_token(access_token, access_secret)\n",
    "    return auth"
   ]
  },
  {
   "cell_type": "code",
   "execution_count": 179,
   "metadata": {
    "collapsed": true
   },
   "outputs": [],
   "source": [
    "#Streaming \n",
    "class MyListener(StreamListener):\n",
    "    def __init__(self):\n",
    "        super(MyListener, self).__init__()\n",
    "        self.end_time = time.time() + 100\n",
    "        self.counter = 0\n",
    "        \n",
    "    def on_data(self, data):\n",
    "        try:\n",
    "            if time.time() > self.end_time:\n",
    "                with open('data.json', 'w') as f:\n",
    "                    f.write(data)\n",
    "                    self.counter += 1\n",
    "                    return True\n",
    "            else:\n",
    "                return False\n",
    "        except BaseException as e:\n",
    "            print(\"Error on_data: %s\" % str(e))\n",
    "        if time.time() > self.end_time:\n",
    "            # sys.exit()\n",
    "            return False\n",
    "        return True\n",
    "    \n",
    " \n",
    "    def on_error(self, status):\n",
    "        print(statuses)\n",
    "        return True"
   ]
  },
  {
   "cell_type": "code",
   "execution_count": 182,
   "metadata": {},
   "outputs": [],
   "source": [
    "auth = load_api()\n",
    "twitter_stream = Stream(auth, MyListener())\n",
    "twitter_stream.filter(track=['#iPhoneX'])"
   ]
  },
  {
   "cell_type": "code",
   "execution_count": 185,
   "metadata": {},
   "outputs": [
    {
     "name": "stdout",
     "output_type": "stream",
     "text": [
      "{\"created_at\":\"Sat Sep 30 09:41:52 +0000 2017\",\"id\":914062733825511424,\"id_str\":\"914062733825511424\",\"text\":\"RT @50o55: #\\u0627\\u0644\\u0633\\u062d\\u0628 \\u0627\\u0644\\u062b\\u0627\\u0646\\u064a \\u063a\\u062f\\u0627\\u064b \\u0639\\u0644\\u0649 \\u062b\\u0627\\u0646\\u064a #\\u0647\\u062f\\u064a\\u0629  #iphone8\\n#\\u0627\\u062a\\u0645\\u0646\\u0649 #\\u0627\\u0644\\u0641\\u0648\\u0632 \\u0644\\u0644\\u062c\\u0645\\u064a\\u0639\\n-\\n#\\u0645\\u0633\\u0627\\u0628\\u0642\\u0627\\u062a\\n#\\u0645\\u0633\\u0627\\u0628\\u0642\\u0629\\n#\\u0647\\u062f\\u0627\\u064a\\u0627\\n#\\u0631\\u062a\\u0648\\u064a\\u062a\\n#\\u062c\\u0648\\u0627\\u0626\\u0632\\n#\\u0647\\u062f\\u0627\\u064a\\u0627\\u2026 \",\"source\":\"\\u003ca href=\\\"http:\\/\\/twitter.com\\\" rel=\\\"nofollow\\\"\\u003eTwitter Web Client\\u003c\\/a\\u003e\",\"truncated\":false,\"in_reply_to_status_id\":null,\"in_reply_to_status_id_str\":null,\"in_reply_to_user_id\":null,\"in_reply_to_user_id_str\":null,\"in_reply_to_screen_name\":null,\"user\":{\"id\":879149275673804800,\"id_str\":\"879149275673804800\",\"name\":\"\\u0645\\u0646\\u064a\\u0639 \\u0628\\u062f\\u064a\\u0648\\u064a\\u060c\",\"screen_name\":\"rmovjjub1602\",\"location\":null,\"url\":null,\"description\":null,\"translator_type\":\"none\",\"protected\":false,\"verified\":false,\"followers_count\":0,\"friends_count\":30,\"listed_count\":0,\"favourites_count\":5,\"statuses_count\":65,\"created_at\":\"Mon Jun 26 01:28:15 +0000 2017\",\"utc_offset\":null,\"time_zone\":null,\"geo_enabled\":false,\"lang\":\"en\",\"contributors_enabled\":false,\"is_translator\":false,\"profile_background_color\":\"F5F8FA\",\"profile_background_image_url\":\"\",\"profile_background_image_url_https\":\"\",\"profile_background_tile\":false,\"profile_link_color\":\"1DA1F2\",\"profile_sidebar_border_color\":\"C0DEED\",\"profile_sidebar_fill_color\":\"DDEEF6\",\"profile_text_color\":\"333333\",\"profile_use_background_image\":true,\"profile_image_url\":\"http:\\/\\/pbs.twimg.com\\/profile_images\\/879154770774241280\\/TzzHsw9j_normal.jpg\",\"profile_image_url_https\":\"https:\\/\\/pbs.twimg.com\\/profile_images\\/879154770774241280\\/TzzHsw9j_normal.jpg\",\"default_profile\":true,\"default_profile_image\":false,\"following\":null,\"follow_request_sent\":null,\"notifications\":null},\"geo\":null,\"coordinates\":null,\"place\":null,\"contributors\":null,\"retweeted_status\":{\"created_at\":\"Fri Sep 29 17:43:07 +0000 2017\",\"id\":913821454356983808,\"id_str\":\"913821454356983808\",\"text\":\"#\\u0627\\u0644\\u0633\\u062d\\u0628 \\u0627\\u0644\\u062b\\u0627\\u0646\\u064a \\u063a\\u062f\\u0627\\u064b \\u0639\\u0644\\u0649 \\u062b\\u0627\\u0646\\u064a #\\u0647\\u062f\\u064a\\u0629  #iphone8\\n#\\u0627\\u062a\\u0645\\u0646\\u0649 #\\u0627\\u0644\\u0641\\u0648\\u0632 \\u0644\\u0644\\u062c\\u0645\\u064a\\u0639\\n-\\n#\\u0645\\u0633\\u0627\\u0628\\u0642\\u0627\\u062a\\n#\\u0645\\u0633\\u0627\\u0628\\u0642\\u0629\\n#\\u0647\\u062f\\u0627\\u064a\\u0627\\n#\\u0631\\u062a\\u0648\\u064a\\u062a\\n#\\u062c\\u0648\\u0627\\u0626\\u0632\\n#\\u0647\\u062f\\u0627\\u064a\\u0627\\u2026 https:\\/\\/t.co\\/G7qCE64alM\",\"display_text_range\":[0,140],\"source\":\"\\u003ca href=\\\"http:\\/\\/twitter.com\\/#!\\/download\\/ipad\\\" rel=\\\"nofollow\\\"\\u003eTwitter for iPad\\u003c\\/a\\u003e\",\"truncated\":true,\"in_reply_to_status_id\":null,\"in_reply_to_status_id_str\":null,\"in_reply_to_user_id\":null,\"in_reply_to_user_id_str\":null,\"in_reply_to_screen_name\":null,\"user\":{\"id\":744108769949392896,\"id_str\":\"744108769949392896\",\"name\":\"\\u0639\\u0628\\u062f\\u0627\\u0644\\u0643\\u0631\\u064a\\u0645 \\u0627\\u0644\\u0647\\u0646\\u062f\\u0627\\u0644\",\"screen_name\":\"50o55\",\"location\":\"\\u0627\\u0644\\u0643\\u0648\\u064a\\u062a\",\"url\":\"http:\\/\\/Instagram.com\\/ku1a\",\"description\":\"\\u0627\\u0644\\u0625\\u0639\\u0644\\u0627\\u0645\\u064a . #\\u0639\\u0628\\u062f\\u0627\\u0644\\u0643\\u0631\\u064a\\u0645_\\u0641\\u0627\\u0644\\u062d_\\u0627\\u0644\\u0647\\u0646\\u062f\\u0627\\u0644_\\u0627\\u0644\\u0647\\u0627\\u0634\\u0645\\u064a _ \\u0631\\u0626\\u064a\\u0633 \\u062a\\u062d\\u0631\\u064a\\u0631 \\u0645\\u062c\\u0644\\u0629 \\u0648\\u0642\\u0646\\u0627\\u0629 \\u062a\\u0644\\u0641\\u0632\\u064a\\u0648\\u0646\\u064a\\u0629 \\ud83c\\uddf0\\ud83c\\uddfc \\u0633\\u064a\\u0627\\u0633\\u064a \\u0648 \\u0646\\u0627\\u0634\\u0637 \\u0641\\u064a \\u062d\\u0642\\u0648\\u0642 \\u0630\\u0648\\u064a \\u0627\\u0644\\u0627\\u062d\\u062a\\u064a\\u0627\\u062c\\u0627\\u062a \\u0627\\u0644\\u062e\\u0627\\u0635\\u0629 _ 65660666 \\u0645\\u0631\\u0634\\u062d \\u0645\\u062c\\u0644\\u0633 \\u0627\\u0644\\u0627\\u0645\\u0629\",\"translator_type\":\"none\",\"protected\":false,\"verified\":false,\"followers_count\":1255870,\"friends_count\":189186,\"listed_count\":35,\"favourites_count\":653,\"statuses_count\":3483,\"created_at\":\"Sat Jun 18 10:05:30 +0000 2016\",\"utc_offset\":null,\"time_zone\":null,\"geo_enabled\":false,\"lang\":\"en\",\"contributors_enabled\":false,\"is_translator\":false,\"profile_background_color\":\"F5F8FA\",\"profile_background_image_url\":\"\",\"profile_background_image_url_https\":\"\",\"profile_background_tile\":false,\"profile_link_color\":\"1DA1F2\",\"profile_sidebar_border_color\":\"C0DEED\",\"profile_sidebar_fill_color\":\"DDEEF6\",\"profile_text_color\":\"333333\",\"profile_use_background_image\":true,\"profile_image_url\":\"http:\\/\\/pbs.twimg.com\\/profile_images\\/906589019353571328\\/xpoFFpp-_normal.jpg\",\"profile_image_url_https\":\"https:\\/\\/pbs.twimg.com\\/profile_images\\/906589019353571328\\/xpoFFpp-_normal.jpg\",\"profile_banner_url\":\"https:\\/\\/pbs.twimg.com\\/profile_banners\\/744108769949392896\\/1497084116\",\"default_profile\":true,\"default_profile_image\":false,\"following\":null,\"follow_request_sent\":null,\"notifications\":null},\"geo\":null,\"coordinates\":null,\"place\":null,\"contributors\":null,\"is_quote_status\":false,\"extended_tweet\":{\"full_text\":\"#\\u0627\\u0644\\u0633\\u062d\\u0628 \\u0627\\u0644\\u062b\\u0627\\u0646\\u064a \\u063a\\u062f\\u0627\\u064b \\u0639\\u0644\\u0649 \\u062b\\u0627\\u0646\\u064a #\\u0647\\u062f\\u064a\\u0629  #iphone8\\n#\\u0627\\u062a\\u0645\\u0646\\u0649 #\\u0627\\u0644\\u0641\\u0648\\u0632 \\u0644\\u0644\\u062c\\u0645\\u064a\\u0639\\n-\\n#\\u0645\\u0633\\u0627\\u0628\\u0642\\u0627\\u062a\\n#\\u0645\\u0633\\u0627\\u0628\\u0642\\u0629\\n#\\u0647\\u062f\\u0627\\u064a\\u0627\\n#\\u0631\\u062a\\u0648\\u064a\\u062a\\n#\\u062c\\u0648\\u0627\\u0626\\u0632\\n#\\u0647\\u062f\\u0627\\u064a\\u0627\\n#\\u0642\\u0631\\u0648\\u0628\\u0627\\u062a\\n#\\u0642\\u0631\\u0648\\u0628\\n#\\u0631\\u062a\\u0648\\u064a\\u062a\\n#\\u0647\\u0627\\u0634\\u062a\\u0627\\u0642 https:\\/\\/t.co\\/J7kGjWGT37\",\"display_text_range\":[0,140],\"entities\":{\"hashtags\":[{\"text\":\"\\u0627\\u0644\\u0633\\u062d\\u0628\",\"indices\":[0,6]},{\"text\":\"\\u0647\\u062f\\u064a\\u0629\",\"indices\":[28,33]},{\"text\":\"iphone8\",\"indices\":[35,43]},{\"text\":\"\\u0627\\u062a\\u0645\\u0646\\u0649\",\"indices\":[44,50]},{\"text\":\"\\u0627\\u0644\\u0641\\u0648\\u0632\",\"indices\":[51,57]},{\"text\":\"\\u0645\\u0633\\u0627\\u0628\\u0642\\u0627\\u062a\",\"indices\":[67,75]},{\"text\":\"\\u0645\\u0633\\u0627\\u0628\\u0642\\u0629\",\"indices\":[76,83]},{\"text\":\"\\u0647\\u062f\\u0627\\u064a\\u0627\",\"indices\":[84,90]},{\"text\":\"\\u0631\\u062a\\u0648\\u064a\\u062a\",\"indices\":[91,97]},{\"text\":\"\\u062c\\u0648\\u0627\\u0626\\u0632\",\"indices\":[98,104]},{\"text\":\"\\u0647\\u062f\\u0627\\u064a\\u0627\",\"indices\":[105,111]},{\"text\":\"\\u0642\\u0631\\u0648\\u0628\\u0627\\u062a\",\"indices\":[112,119]},{\"text\":\"\\u0642\\u0631\\u0648\\u0628\",\"indices\":[120,125]},{\"text\":\"\\u0631\\u062a\\u0648\\u064a\\u062a\",\"indices\":[126,132]},{\"text\":\"\\u0647\\u0627\\u0634\\u062a\\u0627\\u0642\",\"indices\":[133,140]}],\"urls\":[],\"user_mentions\":[],\"symbols\":[],\"media\":[{\"id\":913821451047727105,\"id_str\":\"913821451047727105\",\"indices\":[141,164],\"media_url\":\"http:\\/\\/pbs.twimg.com\\/media\\/DK6LxKHU8AE6AMZ.jpg\",\"media_url_https\":\"https:\\/\\/pbs.twimg.com\\/media\\/DK6LxKHU8AE6AMZ.jpg\",\"url\":\"https:\\/\\/t.co\\/J7kGjWGT37\",\"display_url\":\"pic.twitter.com\\/J7kGjWGT37\",\"expanded_url\":\"https:\\/\\/twitter.com\\/50o55\\/status\\/913821454356983808\\/photo\\/1\",\"type\":\"photo\",\"sizes\":{\"small\":{\"w\":680,\"h\":680,\"resize\":\"fit\"},\"thumb\":{\"w\":150,\"h\":150,\"resize\":\"crop\"},\"large\":{\"w\":1288,\"h\":1288,\"resize\":\"fit\"},\"medium\":{\"w\":1200,\"h\":1200,\"resize\":\"fit\"}}}]},\"extended_entities\":{\"media\":[{\"id\":913821451047727105,\"id_str\":\"913821451047727105\",\"indices\":[141,164],\"media_url\":\"http:\\/\\/pbs.twimg.com\\/media\\/DK6LxKHU8AE6AMZ.jpg\",\"media_url_https\":\"https:\\/\\/pbs.twimg.com\\/media\\/DK6LxKHU8AE6AMZ.jpg\",\"url\":\"https:\\/\\/t.co\\/J7kGjWGT37\",\"display_url\":\"pic.twitter.com\\/J7kGjWGT37\",\"expanded_url\":\"https:\\/\\/twitter.com\\/50o55\\/status\\/913821454356983808\\/photo\\/1\",\"type\":\"photo\",\"sizes\":{\"small\":{\"w\":680,\"h\":680,\"resize\":\"fit\"},\"thumb\":{\"w\":150,\"h\":150,\"resize\":\"crop\"},\"large\":{\"w\":1288,\"h\":1288,\"resize\":\"fit\"},\"medium\":{\"w\":1200,\"h\":1200,\"resize\":\"fit\"}}}]}},\"quote_count\":0,\"reply_count\":187,\"retweet_count\":6059,\"favorite_count\":5060,\"entities\":{\"hashtags\":[{\"text\":\"\\u0627\\u0644\\u0633\\u062d\\u0628\",\"indices\":[0,6]},{\"text\":\"\\u0647\\u062f\\u064a\\u0629\",\"indices\":[28,33]},{\"text\":\"iphone8\",\"indices\":[35,43]},{\"text\":\"\\u0627\\u062a\\u0645\\u0646\\u0649\",\"indices\":[44,50]},{\"text\":\"\\u0627\\u0644\\u0641\\u0648\\u0632\",\"indices\":[51,57]},{\"text\":\"\\u0645\\u0633\\u0627\\u0628\\u0642\\u0627\\u062a\",\"indices\":[67,75]},{\"text\":\"\\u0645\\u0633\\u0627\\u0628\\u0642\\u0629\",\"indices\":[76,83]},{\"text\":\"\\u0647\\u062f\\u0627\\u064a\\u0627\",\"indices\":[84,90]},{\"text\":\"\\u0631\\u062a\\u0648\\u064a\\u062a\",\"indices\":[91,97]},{\"text\":\"\\u062c\\u0648\\u0627\\u0626\\u0632\",\"indices\":[98,104]},{\"text\":\"\\u0647\\u062f\\u0627\\u064a\\u0627\",\"indices\":[105,111]}],\"urls\":[{\"url\":\"https:\\/\\/t.co\\/G7qCE64alM\",\"expanded_url\":\"https:\\/\\/twitter.com\\/i\\/web\\/status\\/913821454356983808\",\"display_url\":\"twitter.com\\/i\\/web\\/status\\/9\\u2026\",\"indices\":[113,136]}],\"user_mentions\":[],\"symbols\":[]},\"favorited\":false,\"retweeted\":false,\"possibly_sensitive\":false,\"filter_level\":\"low\",\"lang\":\"ar\"},\"is_quote_status\":false,\"quote_count\":0,\"reply_count\":0,\"retweet_count\":0,\"favorite_count\":0,\"entities\":{\"hashtags\":[{\"text\":\"\\u0627\\u0644\\u0633\\u062d\\u0628\",\"indices\":[11,17]},{\"text\":\"\\u0647\\u062f\\u064a\\u0629\",\"indices\":[39,44]},{\"text\":\"iphone8\",\"indices\":[46,54]},{\"text\":\"\\u0627\\u062a\\u0645\\u0646\\u0649\",\"indices\":[55,61]},{\"text\":\"\\u0627\\u0644\\u0641\\u0648\\u0632\",\"indices\":[62,68]},{\"text\":\"\\u0645\\u0633\\u0627\\u0628\\u0642\\u0627\\u062a\",\"indices\":[78,86]},{\"text\":\"\\u0645\\u0633\\u0627\\u0628\\u0642\\u0629\",\"indices\":[87,94]},{\"text\":\"\\u0647\\u062f\\u0627\\u064a\\u0627\",\"indices\":[95,101]},{\"text\":\"\\u0631\\u062a\\u0648\\u064a\\u062a\",\"indices\":[102,108]},{\"text\":\"\\u062c\\u0648\\u0627\\u0626\\u0632\",\"indices\":[109,115]},{\"text\":\"\\u0647\\u062f\\u0627\\u064a\\u0627\",\"indices\":[116,122]}],\"urls\":[],\"user_mentions\":[{\"screen_name\":\"50o55\",\"name\":\"\\u0639\\u0628\\u062f\\u0627\\u0644\\u0643\\u0631\\u064a\\u0645 \\u0627\\u0644\\u0647\\u0646\\u062f\\u0627\\u0644\",\"id\":744108769949392896,\"id_str\":\"744108769949392896\",\"indices\":[3,9]}],\"symbols\":[]},\"favorited\":false,\"retweeted\":false,\"filter_level\":\"low\",\"lang\":\"ar\",\"timestamp_ms\":\"1506764512865\"}\r\n",
      "\n"
     ]
    }
   ],
   "source": [
    "#Data Processing\n",
    "#row data\n",
    "with open('data.json') as json_data:\n",
    "    dat = json_data.read()\n",
    "    print dat"
   ]
  },
  {
   "cell_type": "code",
   "execution_count": 148,
   "metadata": {},
   "outputs": [
    {
     "ename": "IndentationError",
     "evalue": "unexpected indent (<ipython-input-148-c1c493dd6042>, line 6)",
     "output_type": "error",
     "traceback": [
      "\u001b[1;36m  File \u001b[1;32m\"<ipython-input-148-c1c493dd6042>\"\u001b[1;36m, line \u001b[1;32m6\u001b[0m\n\u001b[1;33m    if 'country_code' in tweet.keys():\u001b[0m\n\u001b[1;37m    ^\u001b[0m\n\u001b[1;31mIndentationError\u001b[0m\u001b[1;31m:\u001b[0m unexpected indent\n"
     ]
    }
   ],
   "source": [
    "#data filtering\n",
    "ccode = \"US\"\n",
    "with open('python.json', 'r') as fin, open('python_filtered.json', 'w') as fout:\n",
    "    for line in fin:\n",
    "        tweet = json.loads(line) \n",
    "            if 'country_code' in tweet.keys():\n",
    "                if tweet['lang'] == \"en\" and tweet['country_code'] == ccode:\n",
    "                    print tweet['text']\n",
    "                    fout.write(tweet['text'].encode('ascii', errors='backslashreplace'))\n",
    "            else:\n",
    "                if tweet['lang'] == \"en\":\n",
    "                    print tweet['text']\n",
    "                    fout.write(tweet['text'].encode('ascii', errors='backslashreplace'))"
   ]
  },
  {
   "cell_type": "code",
   "execution_count": 136,
   "metadata": {},
   "outputs": [
    {
     "name": "stdout",
     "output_type": "stream",
     "text": [
      "\n"
     ]
    }
   ],
   "source": [
    "with open('data_filtered.json') as json_data_filt:\n",
    "    dat_filt = json_data_filt.read()\n",
    "    print dat_filt"
   ]
  },
  {
   "cell_type": "code",
   "execution_count": 186,
   "metadata": {},
   "outputs": [
    {
     "name": "stdout",
     "output_type": "stream",
     "text": [
      "RT @kalluxrz: My first iPhone8 Giveaway Win the brand new To win just retweet this post &amp; follow us. Winners will get PM… \n"
     ]
    },
    {
     "ename": "ValueError",
     "evalue": "No JSON object could be decoded",
     "output_type": "error",
     "traceback": [
      "\u001b[1;31m\u001b[0m",
      "\u001b[1;31mValueError\u001b[0mTraceback (most recent call last)",
      "\u001b[1;32m<ipython-input-186-6179de97c70c>\u001b[0m in \u001b[0;36m<module>\u001b[1;34m()\u001b[0m\n\u001b[0;32m      3\u001b[0m \u001b[1;32mwith\u001b[0m \u001b[0mopen\u001b[0m\u001b[1;33m(\u001b[0m\u001b[1;34m'data.json'\u001b[0m\u001b[1;33m,\u001b[0m \u001b[1;34m'r'\u001b[0m\u001b[1;33m)\u001b[0m \u001b[1;32mas\u001b[0m \u001b[0mfin\u001b[0m\u001b[1;33m,\u001b[0m \u001b[0mopen\u001b[0m\u001b[1;33m(\u001b[0m\u001b[1;34m'data_filtered.json'\u001b[0m\u001b[1;33m,\u001b[0m \u001b[1;34m'w'\u001b[0m\u001b[1;33m)\u001b[0m \u001b[1;32mas\u001b[0m \u001b[0mfout\u001b[0m\u001b[1;33m:\u001b[0m\u001b[1;33m\u001b[0m\u001b[0m\n\u001b[0;32m      4\u001b[0m     \u001b[1;32mfor\u001b[0m \u001b[0mline\u001b[0m \u001b[1;32min\u001b[0m \u001b[0mfin\u001b[0m\u001b[1;33m:\u001b[0m\u001b[1;33m\u001b[0m\u001b[0m\n\u001b[1;32m----> 5\u001b[1;33m         \u001b[0mtweet\u001b[0m \u001b[1;33m=\u001b[0m \u001b[0mjson\u001b[0m\u001b[1;33m.\u001b[0m\u001b[0mloads\u001b[0m\u001b[1;33m(\u001b[0m\u001b[0mline\u001b[0m\u001b[1;33m)\u001b[0m\u001b[1;33m\u001b[0m\u001b[0m\n\u001b[0m\u001b[0;32m      6\u001b[0m         \u001b[1;32mprint\u001b[0m \u001b[0mtweet\u001b[0m\u001b[1;33m[\u001b[0m\u001b[1;34m'text'\u001b[0m\u001b[1;33m]\u001b[0m\u001b[1;33m\u001b[0m\u001b[0m\n\u001b[0;32m      7\u001b[0m         \u001b[0mfout\u001b[0m\u001b[1;33m.\u001b[0m\u001b[0mwrite\u001b[0m\u001b[1;33m(\u001b[0m\u001b[0mtweet\u001b[0m\u001b[1;33m[\u001b[0m\u001b[1;34m'text'\u001b[0m\u001b[1;33m]\u001b[0m\u001b[1;33m.\u001b[0m\u001b[0mencode\u001b[0m\u001b[1;33m(\u001b[0m\u001b[1;34m'ascii'\u001b[0m\u001b[1;33m,\u001b[0m \u001b[0merrors\u001b[0m\u001b[1;33m=\u001b[0m\u001b[1;34m'backslashreplace'\u001b[0m\u001b[1;33m)\u001b[0m\u001b[1;33m)\u001b[0m\u001b[1;33m\u001b[0m\u001b[0m\n",
      "\u001b[1;32mC:\\Users\\Olha\\Anaconda2\\lib\\json\\__init__.pyc\u001b[0m in \u001b[0;36mloads\u001b[1;34m(s, encoding, cls, object_hook, parse_float, parse_int, parse_constant, object_pairs_hook, **kw)\u001b[0m\n\u001b[0;32m    337\u001b[0m             \u001b[0mparse_int\u001b[0m \u001b[1;32mis\u001b[0m \u001b[0mNone\u001b[0m \u001b[1;32mand\u001b[0m \u001b[0mparse_float\u001b[0m \u001b[1;32mis\u001b[0m \u001b[0mNone\u001b[0m \u001b[1;32mand\u001b[0m\u001b[1;33m\u001b[0m\u001b[0m\n\u001b[0;32m    338\u001b[0m             parse_constant is None and object_pairs_hook is None and not kw):\n\u001b[1;32m--> 339\u001b[1;33m         \u001b[1;32mreturn\u001b[0m \u001b[0m_default_decoder\u001b[0m\u001b[1;33m.\u001b[0m\u001b[0mdecode\u001b[0m\u001b[1;33m(\u001b[0m\u001b[0ms\u001b[0m\u001b[1;33m)\u001b[0m\u001b[1;33m\u001b[0m\u001b[0m\n\u001b[0m\u001b[0;32m    340\u001b[0m     \u001b[1;32mif\u001b[0m \u001b[0mcls\u001b[0m \u001b[1;32mis\u001b[0m \u001b[0mNone\u001b[0m\u001b[1;33m:\u001b[0m\u001b[1;33m\u001b[0m\u001b[0m\n\u001b[0;32m    341\u001b[0m         \u001b[0mcls\u001b[0m \u001b[1;33m=\u001b[0m \u001b[0mJSONDecoder\u001b[0m\u001b[1;33m\u001b[0m\u001b[0m\n",
      "\u001b[1;32mC:\\Users\\Olha\\Anaconda2\\lib\\json\\decoder.pyc\u001b[0m in \u001b[0;36mdecode\u001b[1;34m(self, s, _w)\u001b[0m\n\u001b[0;32m    362\u001b[0m \u001b[1;33m\u001b[0m\u001b[0m\n\u001b[0;32m    363\u001b[0m         \"\"\"\n\u001b[1;32m--> 364\u001b[1;33m         \u001b[0mobj\u001b[0m\u001b[1;33m,\u001b[0m \u001b[0mend\u001b[0m \u001b[1;33m=\u001b[0m \u001b[0mself\u001b[0m\u001b[1;33m.\u001b[0m\u001b[0mraw_decode\u001b[0m\u001b[1;33m(\u001b[0m\u001b[0ms\u001b[0m\u001b[1;33m,\u001b[0m \u001b[0midx\u001b[0m\u001b[1;33m=\u001b[0m\u001b[0m_w\u001b[0m\u001b[1;33m(\u001b[0m\u001b[0ms\u001b[0m\u001b[1;33m,\u001b[0m \u001b[1;36m0\u001b[0m\u001b[1;33m)\u001b[0m\u001b[1;33m.\u001b[0m\u001b[0mend\u001b[0m\u001b[1;33m(\u001b[0m\u001b[1;33m)\u001b[0m\u001b[1;33m)\u001b[0m\u001b[1;33m\u001b[0m\u001b[0m\n\u001b[0m\u001b[0;32m    365\u001b[0m         \u001b[0mend\u001b[0m \u001b[1;33m=\u001b[0m \u001b[0m_w\u001b[0m\u001b[1;33m(\u001b[0m\u001b[0ms\u001b[0m\u001b[1;33m,\u001b[0m \u001b[0mend\u001b[0m\u001b[1;33m)\u001b[0m\u001b[1;33m.\u001b[0m\u001b[0mend\u001b[0m\u001b[1;33m(\u001b[0m\u001b[1;33m)\u001b[0m\u001b[1;33m\u001b[0m\u001b[0m\n\u001b[0;32m    366\u001b[0m         \u001b[1;32mif\u001b[0m \u001b[0mend\u001b[0m \u001b[1;33m!=\u001b[0m \u001b[0mlen\u001b[0m\u001b[1;33m(\u001b[0m\u001b[0ms\u001b[0m\u001b[1;33m)\u001b[0m\u001b[1;33m:\u001b[0m\u001b[1;33m\u001b[0m\u001b[0m\n",
      "\u001b[1;32mC:\\Users\\Olha\\Anaconda2\\lib\\json\\decoder.pyc\u001b[0m in \u001b[0;36mraw_decode\u001b[1;34m(self, s, idx)\u001b[0m\n\u001b[0;32m    380\u001b[0m             \u001b[0mobj\u001b[0m\u001b[1;33m,\u001b[0m \u001b[0mend\u001b[0m \u001b[1;33m=\u001b[0m \u001b[0mself\u001b[0m\u001b[1;33m.\u001b[0m\u001b[0mscan_once\u001b[0m\u001b[1;33m(\u001b[0m\u001b[0ms\u001b[0m\u001b[1;33m,\u001b[0m \u001b[0midx\u001b[0m\u001b[1;33m)\u001b[0m\u001b[1;33m\u001b[0m\u001b[0m\n\u001b[0;32m    381\u001b[0m         \u001b[1;32mexcept\u001b[0m \u001b[0mStopIteration\u001b[0m\u001b[1;33m:\u001b[0m\u001b[1;33m\u001b[0m\u001b[0m\n\u001b[1;32m--> 382\u001b[1;33m             \u001b[1;32mraise\u001b[0m \u001b[0mValueError\u001b[0m\u001b[1;33m(\u001b[0m\u001b[1;34m\"No JSON object could be decoded\"\u001b[0m\u001b[1;33m)\u001b[0m\u001b[1;33m\u001b[0m\u001b[0m\n\u001b[0m\u001b[0;32m    383\u001b[0m         \u001b[1;32mreturn\u001b[0m \u001b[0mobj\u001b[0m\u001b[1;33m,\u001b[0m \u001b[0mend\u001b[0m\u001b[1;33m\u001b[0m\u001b[0m\n",
      "\u001b[1;31mValueError\u001b[0m: No JSON object could be decoded"
     ]
    }
   ],
   "source": [
    "#data filtering\n",
    "ccode = \"US\"\n",
    "with open('data.json', 'r') as fin, open('data_filtered.json', 'w') as fout:\n",
    "    for line in fin:\n",
    "        tweet = json.loads(line)\n",
    "        print tweet['text']\n",
    "        fout.write(tweet['text'].encode('ascii', errors='backslashreplace'))"
   ]
  },
  {
   "cell_type": "code",
   "execution_count": null,
   "metadata": {
    "collapsed": true
   },
   "outputs": [],
   "source": []
  },
  {
   "cell_type": "code",
   "execution_count": null,
   "metadata": {
    "collapsed": true
   },
   "outputs": [],
   "source": []
  }
 ],
 "metadata": {
  "kernelspec": {
   "display_name": "Python 2",
   "language": "python",
   "name": "python2"
  }
 },
 "nbformat": 4,
 "nbformat_minor": 2
}
