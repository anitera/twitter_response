{
 "cells": [
  {
   "cell_type": "code",
   "execution_count": 2,
   "metadata": {},
   "outputs": [
    {
     "name": "stdout",
     "output_type": "stream",
     "text": [
      "It would be hard to forgive The Emoji Movie its \"meh\" plotline and the fact that it is literally one giant ad for apps, but its most unforgivable sin is that it perpetuates the notion that emojis are childish.\n"
     ]
    }
   ],
   "source": [
    "with open(\"C:\\\\Users\\\\Slav\\\\Documents\\\\SaleMove\\\\text.txt\") as f:\n",
    "    data = f.read()\n",
    "    \n",
    "print data"
   ]
  },
  {
   "cell_type": "code",
   "execution_count": 3,
   "metadata": {
    "collapsed": true
   },
   "outputs": [],
   "source": [
    "from nltk.corpus import inaugural"
   ]
  },
  {
   "cell_type": "code",
   "execution_count": 4,
   "metadata": {},
   "outputs": [
    {
     "name": "stdout",
     "output_type": "stream",
     "text": [
      "[u'It', u'would', u'be', u'hard', u'to', u'forgive', ...]\n"
     ]
    }
   ],
   "source": [
    "doc_words = inaugural.words(\"C:\\\\Users\\\\Slav\\\\Documents\\\\SaleMove\\\\text.txt\")\n",
    "print doc_words"
   ]
  },
  {
   "cell_type": "code",
   "execution_count": 1,
   "metadata": {
    "collapsed": true
   },
   "outputs": [],
   "source": [
    "import sklearn"
   ]
  },
  {
   "cell_type": "code",
   "execution_count": null,
   "metadata": {
    "collapsed": true
   },
   "outputs": [],
   "source": [
    "cv = sklearn.features_extraction."
   ]
  }
 ],
 "metadata": {
  "kernelspec": {
   "display_name": "Python 2",
   "language": "python",
   "name": "python2"
  },
  "language_info": {
   "codemirror_mode": {
    "name": "ipython",
    "version": 2
   },
   "file_extension": ".py",
   "mimetype": "text/x-python",
   "name": "python",
   "nbconvert_exporter": "python",
   "pygments_lexer": "ipython2",
   "version": "2.7.13"
  }
 },
 "nbformat": 4,
 "nbformat_minor": 2
}
