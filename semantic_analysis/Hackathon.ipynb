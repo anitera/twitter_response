{
 "cells": [
  {
   "cell_type": "code",
   "execution_count": 160,
   "metadata": {},
   "outputs": [
    {
     "name": "stdout",
     "output_type": "stream",
     "text": [
      "It would be hard to forgive The Emoji Movie its \"meh\" plotline and the fact that it is literally one giant ad for apps, but its most unforgivable sin is that it perpetuates the notion that emojis are childish. Totally bullshit. Pleasant film.\n"
     ]
    }
   ],
   "source": [
    "import nltk\n",
    "import re\n",
    "with open(\"..\\\\gather_data\\\\text.txt\") as f:\n",
    "    data = f.read()\n",
    "    \n",
    "print data"
   ]
  },
  {
   "cell_type": "code",
   "execution_count": 161,
   "metadata": {},
   "outputs": [
    {
     "name": "stdout",
     "output_type": "stream",
     "text": [
      "<type 'str'>\n",
      "It would be hard to forgive The Emoji Movie its meh plotline and the fact that it is literally one giant ad for apps but its most unforgivable sin is that it perpetuates the notion that emojis are childish Totally bullshit Pleasant film\n"
     ]
    }
   ],
   "source": [
    "print type(data)\n",
    "doc_words = re.sub(r'[\".,!?()@#$%^&*{}]', '', data)\n",
    "doc_words\n",
    "print doc_words\n",
    "with open(\"..\\\\gather_data\\\\text_temp.txt\", \"w\") as f:\n",
    "    f.write(doc_words)"
   ]
  },
  {
   "cell_type": "code",
   "execution_count": 162,
   "metadata": {},
   "outputs": [
    {
     "name": "stdout",
     "output_type": "stream",
     "text": [
      "['It', 'would', 'be', 'hard', 'to', 'forgive', 'The', 'Emoji', 'Movie', 'its', 'meh', 'plotline', 'and', 'the', 'fact', 'that', 'it', 'is', 'literally', 'one', 'giant', 'ad', 'for', 'apps', 'but', 'its', 'most', 'unforgivable', 'sin', 'is', 'that', 'it', 'perpetuates', 'the', 'notion', 'that', 'emojis', 'are', 'childish', 'Totally', 'bullshit', 'Pleasant', 'film']\n"
     ]
    }
   ],
   "source": [
    "with open(\"..\\\\gather_data\\\\text_temp.txt\") as f:\n",
    "    dat = f.read()\n",
    "doc_words = nltk.word_tokenize(dat)\n",
    "print doc_words"
   ]
  },
  {
   "cell_type": "code",
   "execution_count": 163,
   "metadata": {},
   "outputs": [
    {
     "name": "stdout",
     "output_type": "stream",
     "text": [
      "['it', 'would', 'be', 'hard', 'to', u'forgiv', 'the', 'emoji', u'movi', u'it', 'meh', u'plotlin', 'and', 'the', 'fact', 'that', 'it', 'is', u'liter', 'one', 'giant', 'ad', 'for', u'app', 'but', u'it', 'most', u'unforgiv', 'sin', 'is', 'that', 'it', u'perpetu', 'the', 'notion', 'that', u'emoji', 'are', 'childish', u'total', 'bullshit', 'pleasant', 'film']\n"
     ]
    }
   ],
   "source": [
    "def stemmer(doc_words):\n",
    "    doc_words = [w.lower() for w in doc_words]\n",
    "    stemmer_ = nltk.PorterStemmer()\n",
    "    stemmed_words = [stemmer_.stem(k.lower()) for k in doc_words] \n",
    "    return stemmed_words\n",
    "    \n",
    "words = stemmer(doc_words)\n",
    "print words"
   ]
  },
  {
   "cell_type": "code",
   "execution_count": 164,
   "metadata": {},
   "outputs": [
    {
     "name": "stdout",
     "output_type": "stream",
     "text": [
      "['would', 'hard', u'forgiv', 'emoji', u'movi', 'meh', u'plotlin', 'fact', u'liter', 'one', 'giant', 'ad', u'app', u'unforgiv', 'sin', u'perpetu', 'notion', u'emoji', 'childish', u'total', 'bullshit', 'pleasant', 'film']\n"
     ]
    }
   ],
   "source": [
    "from nltk.corpus import stopwords\n",
    "\n",
    "def remove_stop_words(text):\n",
    "    stop_words = set(stopwords.words('english'))\n",
    "    filtered_words = list(filter(lambda x: x not in stop_words, text))\n",
    "    return filtered_words\n",
    "\n",
    "clean_words = remove_stop_words(words)\n",
    "print clean_words"
   ]
  },
  {
   "cell_type": "code",
   "execution_count": 165,
   "metadata": {},
   "outputs": [
    {
     "name": "stdout",
     "output_type": "stream",
     "text": [
      "Counter({'emoji': 2, u'unforgiv': 1, 'ad': 1, u'movi': 1, u'app': 1, 'hard': 1, 'one': 1, u'total': 1, 'film': 1, 'giant': 1, u'forgiv': 1, 'would': 1, 'childish': 1, u'perpetu': 1, 'sin': 1, u'liter': 1, u'plotlin': 1, 'meh': 1, 'pleasant': 1, 'bullshit': 1, 'notion': 1, 'fact': 1})\n"
     ]
    }
   ],
   "source": [
    "import collections\n",
    "c = collections.Counter(clean_words)\n",
    "print c"
   ]
  },
  {
   "cell_type": "code",
   "execution_count": 166,
   "metadata": {},
   "outputs": [
    {
     "name": "stdout",
     "output_type": "stream",
     "text": [
      "[('emoji', 2), (u'unforgiv', 1), ('ad', 1), (u'movi', 1), (u'app', 1)]\n"
     ]
    }
   ],
   "source": [
    "print c.most_common(5)"
   ]
  },
  {
   "cell_type": "code",
   "execution_count": 167,
   "metadata": {},
   "outputs": [
    {
     "data": {
      "image/png": "[encoded data removed]",
      "text/plain": [
       "<matplotlib.figure.Figure at 0xce25400>"
      ]
     },
     "metadata": {},
     "output_type": "display_data"
    }
   ],
   "source": [
    "# input - collection counter\n",
    "def plot_most_common(collection, n):\n",
    "    most = collection.most_common(n)\n",
    "    s, y = zip(*most)\n",
    "    x = np.arange(len(s))\n",
    "    pl.xticks(x, s)\n",
    "    pl.xticks(range(len(s)), s, rotation=45)\n",
    "    pl.plot(x, y)\n",
    "    pl.show()\n",
    "\n",
    "plot_most_common(c, 10)"
   ]
  },
  {
   "cell_type": "code",
   "execution_count": 168,
   "metadata": {},
   "outputs": [
    {
     "name": "stdout",
     "output_type": "stream",
     "text": [
      "[('emoji', 2), (u'unforgiv', 1), ('ad', 1), (u'movi', 1), (u'app', 1), ('hard', 1), ('one', 1), (u'total', 1), ('film', 1), ('giant', 1), (u'forgiv', 1), ('would', 1), ('childish', 1), (u'perpetu', 1), ('sin', 1), (u'liter', 1), (u'plotlin', 1), ('meh', 1), ('pleasant', 1), ('bullshit', 1), ('notion', 1), ('fact', 1)]\n"
     ]
    }
   ],
   "source": [
    "common = c.most_common(min(len(clean_words), 10000))\n",
    "\n",
    "print common"
   ]
  },
  {
   "cell_type": "code",
   "execution_count": 169,
   "metadata": {},
   "outputs": [],
   "source": [
    "positive_words = []\n",
    "with open(\".\\\\\\opinion-lexicon-English\\\\positive-words.txt\") as f:\n",
    "    positive_words = f.read()\n",
    "    positive_words = positive_words.split(\"\\n\")\n",
    "\n",
    "    \n",
    "negative_words = []\n",
    "with open(\".\\\\\\opinion-lexicon-English\\\\negative-words.txt\") as f:\n",
    "    negative_words = f.read()\n",
    "    negative_words = negative_words.split(\"\\n\")"
   ]
  },
  {
   "cell_type": "code",
   "execution_count": 170,
   "metadata": {},
   "outputs": [
    {
     "name": "stdout",
     "output_type": "stream",
     "text": [
      "1 4\n",
      "True\n"
     ]
    }
   ],
   "source": [
    "neg_count = 0\n",
    "pos_count = 0\n",
    "\n",
    "for word in common:\n",
    "    if str(word[0]) in positive_words:\n",
    "        pos_count += word[1]\n",
    "    if str(word[0]) in negative_words:\n",
    "        neg_count += word[1]\n",
    "        \n",
    "print pos_count, neg_count\n",
    "print \"pleasant\" in positive_words"
   ]
  },
  {
   "cell_type": "code",
   "execution_count": 173,
   "metadata": {},
   "outputs": [
    {
     "data": {
      "image/png": "[encoded data removed]",
      "text/plain": [
       "<matplotlib.figure.Figure at 0xc6087b8>"
      ]
     },
     "metadata": {},
     "output_type": "display_data"
    }
   ],
   "source": [
    "colors = ['blue', 'red']\n",
    "labels = [\"Positive meaning\", \"Negative meaning\"]\n",
    "fig = plt.figure()\n",
    "plt.pie([pos_count, neg_count],  labels=labels, colors=colors,\n",
    "        autopct='%1.1f%%', shadow=True, startangle=140)\n",
    "plt.show()\n",
    "fig.savefig('..//semantic_output//piechart.png')"
   ]
  },
  {
   "cell_type": "code",
   "execution_count": 174,
   "metadata": {
    "collapsed": true
   },
   "outputs": [],
   "source": [
    "import nltk\n",
    "import re\n",
    "import matplotlib.pyplot as plt\n",
    "import pylab as pl\n",
    "import numpy as np\n",
    "from nltk.corpus import stopwords\n",
    "import collections\n",
    "\n",
    "def stemmer(doc_words):\n",
    "    doc_words = [w.lower() for w in doc_words]\n",
    "    stemmer_ = nltk.PorterStemmer()\n",
    "    stemmed_words = [stemmer_.stem(k.lower()) for k in doc_words] \n",
    "    return stemmed_words\n",
    "\n",
    "def remove_stop_words(text):\n",
    "    stop_words = set(stopwords.words('english'))\n",
    "    filtered_words = list(filter(lambda x: x not in stop_words, text))\n",
    "    return filtered_words\n",
    "\n",
    "with open(\"..\\\\gather_data\\\\text.txt\") as f:\n",
    "    data = f.read()\n",
    "doc_words = re.sub(r'[\".,!?()@#$%^&*{}]', '', data)\n",
    "doc_words\n",
    "with open(\"..\\\\gather_data\\\\text_temp.txt\", \"w\") as f:\n",
    "    f.write(doc_words)    \n",
    "with open(\"..\\\\gather_data\\\\text_temp.txt\") as f:\n",
    "    dat = f.read()\n",
    "    \n",
    "doc_words = nltk.word_tokenize(dat)\n",
    "words = stemmer(doc_words)\n",
    "clean_words = remove_stop_words(words)    \n",
    "collection = collections.Counter(clean_words)\n",
    "common = collection.most_common(min(len(clean_words), 10000))\n",
    "positive_words = []\n",
    "with open(\".\\\\\\opinion-lexicon-English\\\\positive-words.txt\") as f:\n",
    "    positive_words = f.read()\n",
    "    positive_words = positive_words.split(\"\\n\")\n",
    "    \n",
    "negative_words = []\n",
    "with open(\".\\\\\\opinion-lexicon-English\\\\negative-words.txt\") as f:\n",
    "    negative_words = f.read()\n",
    "    negative_words = negative_words.split(\"\\n\")\n",
    "    \n",
    "neg_count = 0\n",
    "pos_count = 0\n",
    "\n",
    "for word in common:\n",
    "    if str(word[0]) in positive_words:\n",
    "        pos_count += word[1]\n",
    "    if str(word[0]) in negative_words:\n",
    "        neg_count += word[1]\n",
    "        \n",
    "colors = ['blue', 'red']\n",
    "labels = [\"Positive meaning\", \"Negative meaning\"]\n",
    "fig = plt.figure()\n",
    "plt.pie([pos_count, neg_count],  labels=labels, colors=colors,\n",
    "        autopct='%1.1f%%', shadow=True, startangle=140)\n",
    "fig.savefig('..//semantic_output//piechart.png')"
   ]
  },
  {
   "cell_type": "code",
   "execution_count": null,
   "metadata": {
    "collapsed": true
   },
   "outputs": [],
   "source": []
  }
 ],
 "metadata": {
  "kernelspec": {
   "display_name": "Python 2",
   "language": "python",
   "name": "python2"
  },
  "language_info": {
   "codemirror_mode": {
    "name": "ipython",
    "version": 2
   },
   "file_extension": ".py",
   "mimetype": "text/x-python",
   "name": "python",
   "nbconvert_exporter": "python",
   "pygments_lexer": "ipython2",
   "version": "2.7.13"
  }
 },
 "nbformat": 4,
 "nbformat_minor": 2
}
