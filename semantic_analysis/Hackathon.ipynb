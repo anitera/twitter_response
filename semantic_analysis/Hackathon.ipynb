{
 "cells": [
  {
   "cell_type": "code",
   "execution_count": 160,
   "metadata": {},
   "outputs": [
    {
     "name": "stdout",
     "output_type": "stream",
     "text": [
      "It would be hard to forgive The Emoji Movie its \"meh\" plotline and the fact that it is literally one giant ad for apps, but its most unforgivable sin is that it perpetuates the notion that emojis are childish. Totally bullshit. Pleasant film.\n"
     ]
    }
   ],
   "source": [
    "import nltk\n",
    "import re\n",
    "with open(\"..\\\\gather_data\\\\text.txt\") as f:\n",
    "    data = f.read()\n",
    "    \n",
    "print data"
   ]
  },
  {
   "cell_type": "code",
   "execution_count": 161,
   "metadata": {},
   "outputs": [
    {
     "name": "stdout",
     "output_type": "stream",
     "text": [
      "<type 'str'>\n",
      "It would be hard to forgive The Emoji Movie its meh plotline and the fact that it is literally one giant ad for apps but its most unforgivable sin is that it perpetuates the notion that emojis are childish Totally bullshit Pleasant film\n"
     ]
    }
   ],
   "source": [
    "print type(data)\n",
    "doc_words = re.sub(r'[\".,!?()@#$%^&*{}]', '', data)\n",
    "doc_words\n",
    "print doc_words\n",
    "with open(\"..\\\\gather_data\\\\text_temp.txt\", \"w\") as f:\n",
    "    f.write(doc_words)"
   ]
  },
  {
   "cell_type": "code",
   "execution_count": 162,
   "metadata": {},
   "outputs": [
    {
     "name": "stdout",
     "output_type": "stream",
     "text": [
      "['It', 'would', 'be', 'hard', 'to', 'forgive', 'The', 'Emoji', 'Movie', 'its', 'meh', 'plotline', 'and', 'the', 'fact', 'that', 'it', 'is', 'literally', 'one', 'giant', 'ad', 'for', 'apps', 'but', 'its', 'most', 'unforgivable', 'sin', 'is', 'that', 'it', 'perpetuates', 'the', 'notion', 'that', 'emojis', 'are', 'childish', 'Totally', 'bullshit', 'Pleasant', 'film']\n"
     ]
    }
   ],
   "source": [
    "with open(\"..\\\\gather_data\\\\text_temp.txt\") as f:\n",
    "    dat = f.read()\n",
    "doc_words = nltk.word_tokenize(dat)\n",
    "print doc_words"
   ]
  },
  {
   "cell_type": "code",
   "execution_count": 163,
   "metadata": {},
   "outputs": [
    {
     "name": "stdout",
     "output_type": "stream",
     "text": [
      "['it', 'would', 'be', 'hard', 'to', u'forgiv', 'the', 'emoji', u'movi', u'it', 'meh', u'plotlin', 'and', 'the', 'fact', 'that', 'it', 'is', u'liter', 'one', 'giant', 'ad', 'for', u'app', 'but', u'it', 'most', u'unforgiv', 'sin', 'is', 'that', 'it', u'perpetu', 'the', 'notion', 'that', u'emoji', 'are', 'childish', u'total', 'bullshit', 'pleasant', 'film']\n"
     ]
    }
   ],
   "source": [
    "def stemmer(doc_words):\n",
    "    doc_words = [w.lower() for w in doc_words]\n",
    "    stemmer_ = nltk.PorterStemmer()\n",
    "    stemmed_words = [stemmer_.stem(k.lower()) for k in doc_words] \n",
    "    return stemmed_words\n",
    "    \n",
    "words = stemmer(doc_words)\n",
    "print words"
   ]
  },
  {
   "cell_type": "code",
   "execution_count": 164,
   "metadata": {},
   "outputs": [
    {
     "name": "stdout",
     "output_type": "stream",
     "text": [
      "['would', 'hard', u'forgiv', 'emoji', u'movi', 'meh', u'plotlin', 'fact', u'liter', 'one', 'giant', 'ad', u'app', u'unforgiv', 'sin', u'perpetu', 'notion', u'emoji', 'childish', u'total', 'bullshit', 'pleasant', 'film']\n"
     ]
    }
   ],
   "source": [
    "from nltk.corpus import stopwords\n",
    "\n",
    "def remove_stop_words(text):\n",
    "    stop_words = set(stopwords.words('english'))\n",
    "    filtered_words = list(filter(lambda x: x not in stop_words, text))\n",
    "    return filtered_words\n",
    "\n",
    "clean_words = remove_stop_words(words)\n",
    "print clean_words"
   ]
  },
  {
   "cell_type": "code",
   "execution_count": 165,
   "metadata": {},
   "outputs": [
    {
     "name": "stdout",
     "output_type": "stream",
     "text": [
      "Counter({'emoji': 2, u'unforgiv': 1, 'ad': 1, u'movi': 1, u'app': 1, 'hard': 1, 'one': 1, u'total': 1, 'film': 1, 'giant': 1, u'forgiv': 1, 'would': 1, 'childish': 1, u'perpetu': 1, 'sin': 1, u'liter': 1, u'plotlin': 1, 'meh': 1, 'pleasant': 1, 'bullshit': 1, 'notion': 1, 'fact': 1})\n"
     ]
    }
   ],
   "source": [
    "import collections\n",
    "c = collections.Counter(clean_words)\n",
    "print c"
   ]
  },
  {
   "cell_type": "code",
   "execution_count": 166,
   "metadata": {},
   "outputs": [
    {
     "name": "stdout",
     "output_type": "stream",
     "text": [
      "[('emoji', 2), (u'unforgiv', 1), ('ad', 1), (u'movi', 1), (u'app', 1)]\n"
     ]
    }
   ],
   "source": [
    "print c.most_common(5)"
   ]
  },
  {
   "cell_type": "code",
   "execution_count": 167,
   "metadata": {},
   "outputs": [
    {
     "data": {
      "image/png": "[encoded data removed]",
      "text/plain": [
       "<matplotlib.figure.Figure at 0xce25400>"
      ]
     },
     "metadata": {},
     "output_type": "display_data"
    }
   ],
   "source": [
    "# input - collection counter\n",
    "def plot_most_common(collection, n):\n",
    "    most = collection.most_common(n)\n",
    "    s, y = zip(*most)\n",
    "    x = np.arange(len(s))\n",
    "    pl.xticks(x, s)\n",
    "    pl.xticks(range(len(s)), s, rotation=45)\n",
    "    pl.plot(x, y)\n",
    "    pl.show()\n",
    "\n",
    "plot_most_common(c, 10)"
   ]
  },
  {
   "cell_type": "code",
   "execution_count": 168,
   "metadata": {},
   "outputs": [
    {
     "name": "stdout",
     "output_type": "stream",
     "text": [
      "[('emoji', 2), (u'unforgiv', 1), ('ad', 1), (u'movi', 1), (u'app', 1), ('hard', 1), ('one', 1), (u'total', 1), ('film', 1), ('giant', 1), (u'forgiv', 1), ('would', 1), ('childish', 1), (u'perpetu', 1), ('sin', 1), (u'liter', 1), (u'plotlin', 1), ('meh', 1), ('pleasant', 1), ('bullshit', 1), ('notion', 1), ('fact', 1)]\n"
     ]
    }
   ],
   "source": [
    "common = c.most_common(min(len(clean_words), 10000))\n",
    "most_common = common[ : 15]\n",
    "indices = np.arange(len(most_common))\n",
    "fig = plt.figure()\n",
    "freq = [k[1] for k in most_common]\n",
    "word = [str(k[0]) for k in most_common]\n",
    "plt.bar(indices, freq, color='blue')\n",
    "plt.xticks(indices, word, rotation='vertical')\n",
    "plt.tight_layout()\n",
    "fig.savefig('..//semantic_output//common_words.jpg')"
   ]
  },
  {
   "cell_type": "code",
   "execution_count": 169,
   "metadata": {},
   "outputs": [],
   "source": [
    "positive_words = []\n",
    "with open(\".\\\\\\opinion-lexicon-English\\\\positive-words.txt\") as f:\n",
    "    positive_words = f.read()\n",
    "    positive_words = positive_words.split(\"\\n\")\n",
    "\n",
    "    \n",
    "negative_words = []\n",
    "with open(\".\\\\\\opinion-lexicon-English\\\\negative-words.txt\") as f:\n",
    "    negative_words = f.read()\n",
    "    negative_words = negative_words.split(\"\\n\")"
   ]
  },
  {
   "cell_type": "code",
   "execution_count": 198,
   "metadata": {},
   "outputs": [
    {
     "data": {
      "image/png": "[encoded data removed]",
      "text/plain": [
       "<matplotlib.figure.Figure at 0x109689e8>"
      ]
     },
     "metadata": {},
     "output_type": "display_data"
    },
    {
     "name": "stdout",
     "output_type": "stream",
     "text": [
      "[('depress', 3), ('difficult', 3), ('poor', 3), ('lack', 2), ('miss', 2), ('rival', 2), ('slow', 2), ('lose', 2), ('dead', 2), ('problem', 2)]\n"
     ]
    },
    {
     "data": {
      "image/png": "[encoded data removed]",
      "text/plain": [
       "<matplotlib.figure.Figure at 0xdbc59b0>"
      ]
     },
     "metadata": {},
     "output_type": "display_data"
    },
    {
     "name": "stdout",
     "output_type": "stream",
     "text": [
      "93 50\n",
      "True\n"
     ]
    }
   ],
   "source": [
    "neg_count = 0\n",
    "pos_count = 0\n",
    "pos_words = []\n",
    "neg_words = []\n",
    "\n",
    "for word in common:\n",
    "    if str(word[0]) in positive_words:\n",
    "        pos_count += word[1]\n",
    "        if len(pos_words) < 10:\n",
    "            pos_words.append((str(word[0]), word[1]))\n",
    "    if str(word[0]) in negative_words:\n",
    "        neg_count += word[1]\n",
    "        if len(neg_words) < 10:\n",
    "            neg_words.append((str(word[0]), word[1]))\n",
    "    \n",
    "freq_pos = []\n",
    "word_pos = []\n",
    "for k in pos_words:\n",
    "    freq_pos.append(k[1])\n",
    "    word_pos.append(k[0])\n",
    "indices_pos = np.arange(len(pos_words))\n",
    "fig = plt.figure()\n",
    "plt.bar(indices_pos, freq_pos, color='blue')\n",
    "plt.xticks(indices_pos, word_pos, rotation='vertical')\n",
    "plt.tight_layout()\n",
    "fig.savefig('..//semantic_output//good_words.jpg')\n",
    "# plt.show()\n",
    "\n",
    "\n",
    "freq_neg = []\n",
    "word_neg = []\n",
    "print neg_words\n",
    "for k in neg_words:\n",
    "    freq_neg.append(k[1])\n",
    "    word_neg.append(k[0])\n",
    "indices_neg = np.arange(len(neg_words))\n",
    "fig = plt.figure()\n",
    "plt.bar(indices_neg, freq_neg, color='r')\n",
    "plt.xticks(indices_neg, word_neg, rotation='vertical')\n",
    "plt.tight_layout()\n",
    "fig.savefig('..//semantic_output//bad_words.jpg')\n",
    "# plt.show()\n",
    "\n",
    "print pos_count, neg_count\n",
    "print \"pleasant\" in positive_words"
   ]
  },
  {
   "cell_type": "code",
   "execution_count": 197,
   "metadata": {},
   "outputs": [
    {
     "name": "stdout",
     "output_type": "stream",
     "text": [
      "[('depress', 3), ('difficult', 3), ('poor', 3), ('lack', 2), ('miss', 2), ('rival', 2), ('slow', 2), ('lose', 2), ('dead', 2), ('problem', 2), ('twist', 2), ('scratch', 1), ('hate', 1), ('disturb', 1), ('louder', 1)]\n"
     ]
    },
    {
     "data": {
      "image/png": "[encoded data removed]",
      "text/plain": [
       "<matplotlib.figure.Figure at 0x10e65940>"
      ]
     },
     "metadata": {},
     "output_type": "display_data"
    }
   ],
   "source": [
    "freq_neg = []\n",
    "word_neg = []\n",
    "print neg_words\n",
    "for k in neg_words:\n",
    "    freq_neg.append(k[1])\n",
    "    word_neg.append(k[0])\n",
    "indices_neg = np.arange(len(neg_words))\n",
    "plt.bar(indices_neg, freq_neg, color='r')\n",
    "plt.xticks(indices_neg, word_neg, rotation='vertical')\n",
    "plt.tight_layout()\n",
    "plt.show()"
   ]
  },
  {
   "cell_type": "code",
   "execution_count": 173,
   "metadata": {},
   "outputs": [
    {
     "data": {
      "image/png": "[encoded data removed]",
      "text/plain": [
       "<matplotlib.figure.Figure at 0xc6087b8>"
      ]
     },
     "metadata": {},
     "output_type": "display_data"
    }
   ],
   "source": [
    "colors = ['blue', 'red']\n",
    "labels = [\"Positive meaning\", \"Negative meaning\"]\n",
    "fig = plt.figure()\n",
    "plt.pie([pos_count, neg_count],  labels=labels, colors=colors,\n",
    "        autopct='%1.1f%%', shadow=True, startangle=140)\n",
    "plt.show()\n",
    "fig.savefig('..//semantic_output//piechart.png')"
   ]
  },
  {
   "cell_type": "code",
   "execution_count": 207,
   "metadata": {},
   "outputs": [
    {
     "name": "stdout",
     "output_type": "stream",
     "text": [
      "[('pleas', 7), ('scratch', 3), ('rip', 3), ('authoritarian', 3), ('split', 2), ('dust', 2), ('trick', 1), ('risk', 1), ('suck', 1), ('broken', 1)] [('great', 5), ('success', 4), ('work', 3), ('top', 2), ('master', 2), ('best', 2), ('popular', 2), ('super', 2), ('recommend', 2), ('led', 1)]\n"
     ]
    }
   ],
   "source": [
    "import nltk\n",
    "import re\n",
    "import matplotlib.pyplot as plt\n",
    "import pylab as pl\n",
    "import numpy as np\n",
    "from nltk.corpus import stopwords\n",
    "import collections\n",
    "\n",
    "def stemmer(doc_words):\n",
    "    doc_words = [w.lower() for w in doc_words]\n",
    "    stemmer_ = nltk.PorterStemmer()\n",
    "    stemmed_words = [stemmer_.stem(k.lower()) for k in doc_words] \n",
    "    return stemmed_words\n",
    "\n",
    "def remove_stop_words(text):\n",
    "    bad_words = [\"like\", \"follow\", \"http\", \"https\", \"click\", \"-tag\"]\n",
    "    stop_words = list(set(stopwords.words('english')))\n",
    "    for k in bad_words:\n",
    "        stop_words.append(k)\n",
    "    stop_words = set(stop_words)\n",
    "    filtered_words = list(filter(lambda x: x not in stop_words, text))\n",
    "    return filtered_words\n",
    "\n",
    "with open(\"..\\\\gather_data\\\\python_filtered.json\") as f:\n",
    "    data = f.read()\n",
    "data = data.decode('ascii', 'ignore')\n",
    "doc_words = re.sub(r'[\".,!?()@#$%^&*{}]', '', data)\n",
    "with open(\"..\\\\gather_data\\\\text_temp.txt\", \"w\") as f:\n",
    "    f.write(doc_words)    \n",
    "with open(\"..\\\\gather_data\\\\text_temp.txt\") as f:\n",
    "    dat = f.read()\n",
    "    \n",
    "doc_words = nltk.word_tokenize(dat)\n",
    "words = stemmer(doc_words)\n",
    "clean_words = remove_stop_words(words)    \n",
    "collection = collections.Counter(clean_words)\n",
    "common = collection.most_common(min(len(clean_words), 10000))\n",
    "most_common = common[ : 15]\n",
    "indices = np.arange(len(most_common))\n",
    "fig = plt.figure()\n",
    "freq = [k[1] for k in most_common]\n",
    "word = [str(k[0]) for k in most_common]\n",
    "plt.bar(indices, freq, color='green')\n",
    "plt.xticks(indices, word, rotation='vertical')\n",
    "plt.tight_layout()\n",
    "# fig.savefig('..//semantic_output//common_words.jpg')\n",
    "fig.savefig('..//trash//common_words' + str(np.random.randint(100)) + '.jpg')\n",
    "\n",
    "positive_words = []\n",
    "with open(\".\\\\\\opinion-lexicon-English\\\\positive-words.txt\") as f:\n",
    "    positive_words = f.read()\n",
    "    positive_words = positive_words.split(\"\\n\")\n",
    "    \n",
    "negative_words = []\n",
    "with open(\".\\\\\\opinion-lexicon-English\\\\negative-words.txt\") as f:\n",
    "    negative_words = f.read()\n",
    "    negative_words = negative_words.split(\"\\n\")\n",
    "    \n",
    "neg_count = 0\n",
    "pos_count = 0\n",
    "pos_words = []\n",
    "neg_words = []\n",
    "\n",
    "for word in common:\n",
    "    if str(word[0]) in positive_words:\n",
    "        pos_count += word[1]\n",
    "        if len(pos_words) < 10:\n",
    "            pos_words.append((str(word[0]), word[1]))\n",
    "    if str(word[0]) in negative_words:\n",
    "        neg_count += word[1]\n",
    "        if len(neg_words) < 10:\n",
    "            neg_words.append((str(word[0]), word[1]))\n",
    "    \n",
    "freq_pos = []\n",
    "word_pos = []\n",
    "for k in pos_words:\n",
    "    freq_pos.append(k[1])\n",
    "    word_pos.append(k[0])\n",
    "indices_pos = np.arange(len(pos_words))\n",
    "fig = plt.figure()\n",
    "plt.bar(indices_pos, freq_pos, color='blue')\n",
    "plt.xticks(indices_pos, word_pos, rotation='vertical')\n",
    "plt.tight_layout()\n",
    "# fig.savefig('..//semantic_output//good_words.jpg')\n",
    "fig.savefig('..//trash//good_words' + str(np.random.randint(100)) + '.jpg')\n",
    "\n",
    "freq_neg = []\n",
    "word_neg = []\n",
    "\n",
    "for k in neg_words:\n",
    "    freq_neg.append(k[1])\n",
    "    word_neg.append(k[0])\n",
    "indices_neg = np.arange(len(neg_words))\n",
    "fig = plt.figure()\n",
    "plt.bar(indices_neg, freq_neg, color='r')\n",
    "plt.xticks(indices_neg, word_neg, rotation='vertical')\n",
    "plt.tight_layout()\n",
    "# fig.savefig('..//semantic_output//bad_words.jpg')\n",
    "fig.savefig('..//trash//bad_words' + str(np.random.randint(100)) + '.jpg')\n",
    "\n",
    "colors = ['blue', 'red']\n",
    "labels = [\"Positive meaning\", \"Negative meaning\"]\n",
    "fig = plt.figure()\n",
    "plt.pie([pos_count, neg_count],  labels=labels, colors=colors,\n",
    "        autopct='%1.1f%%', shadow=True, startangle=140)\n",
    "# fig.savefig('..//semantic_output//piechart.jpg')\n",
    "fig.savefig('..//trash//piechart' + str(np.random.randint(100)) + '.jpg')\n",
    "print neg_words, pos_words"
   ]
  },
  {
   "cell_type": "code",
   "execution_count": null,
   "metadata": {
    "collapsed": true
   },
   "outputs": [],
   "source": []
  }
 ],
 "metadata": {
  "kernelspec": {
   "display_name": "Python 2",
   "language": "python",
   "name": "python2"
  },
  "language_info": {
   "codemirror_mode": {
    "name": "ipython",
    "version": 2
   },
   "file_extension": ".py",
   "mimetype": "text/x-python",
   "name": "python",
   "nbconvert_exporter": "python",
   "pygments_lexer": "ipython2",
   "version": "2.7.13"
  }
 },
 "nbformat": 4,
 "nbformat_minor": 2
}
